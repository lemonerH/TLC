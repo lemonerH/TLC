{
 "cells": [
  {
   "source": [
    "# 打车软件\n",
    "\n",
    "---\n",
    "\n",
    "## 概述\n",
    "\n",
    "数据来源：\n",
    "\n",
    "<https://www1.nyc.gov/site/tlc/about/tlc-trip-record-data.page>\n",
    "\n",
    "\n",
    "数据描述：\n",
    "\n",
    "<https://www1.nyc.gov/assets/tlc/downloads/pdf/data_dictionary_trip_records_yellow.pdf>"
   ],
   "cell_type": "markdown",
   "metadata": {}
  },
  {
   "source": [
    "导入相关包"
   ],
   "cell_type": "markdown",
   "metadata": {}
  },
  {
   "cell_type": "code",
   "execution_count": 1,
   "metadata": {},
   "outputs": [],
   "source": [
    "import os\n",
    "import pandas as pd\n",
    "from datetime import datetime, timedelta\n",
    "import numpy as np\n",
    "import matplotlib.pyplot as plt\n",
    "from matplotlib.animation import FuncAnimation\n",
    "import seaborn as sns\n",
    "from dateutil.relativedelta import relativedelta"
   ]
  },
  {
   "source": [
    "观察数据"
   ],
   "cell_type": "markdown",
   "metadata": {}
  },
  {
   "cell_type": "code",
   "execution_count": 2,
   "metadata": {},
   "outputs": [
    {
     "output_type": "execute_result",
     "data": {
      "text/plain": [
       "   VendorID tpep_pickup_datetime tpep_dropoff_datetime  passenger_count  \\\n",
       "0       1.0  2020-06-01 00:31:23   2020-06-01 00:49:58              1.0   \n",
       "1       1.0  2020-06-01 00:42:50   2020-06-01 01:04:33              1.0   \n",
       "2       1.0  2020-06-01 00:39:51   2020-06-01 00:49:09              1.0   \n",
       "3       1.0  2020-06-01 00:56:13   2020-06-01 01:11:38              1.0   \n",
       "4       1.0  2020-06-01 00:16:41   2020-06-01 00:29:30              1.0   \n",
       "\n",
       "   trip_distance  RatecodeID store_and_fwd_flag  PULocationID  DOLocationID  \\\n",
       "0            3.6         1.0                  N           140            68   \n",
       "1            5.6         1.0                  N            79           226   \n",
       "2            2.3         1.0                  N           238           116   \n",
       "3            5.3         1.0                  N           141           116   \n",
       "4            4.4         1.0                  N           186            75   \n",
       "\n",
       "   payment_type  fare_amount  extra  mta_tax  tip_amount  tolls_amount  \\\n",
       "0           1.0         15.5    3.0      0.5        4.00           0.0   \n",
       "1           1.0         19.5    3.0      0.5        2.00           0.0   \n",
       "2           2.0         10.0    0.5      0.5        0.00           0.0   \n",
       "3           2.0         17.5    3.0      0.5        0.00           0.0   \n",
       "4           1.0         14.5    3.0      0.5        3.65           0.0   \n",
       "\n",
       "   improvement_surcharge  total_amount  congestion_surcharge  \n",
       "0                    0.3         23.30                   2.5  \n",
       "1                    0.3         25.30                   2.5  \n",
       "2                    0.3         11.30                   0.0  \n",
       "3                    0.3         21.30                   2.5  \n",
       "4                    0.3         21.95                   2.5  "
      ],
      "text/html": "<div>\n<style scoped>\n    .dataframe tbody tr th:only-of-type {\n        vertical-align: middle;\n    }\n\n    .dataframe tbody tr th {\n        vertical-align: top;\n    }\n\n    .dataframe thead th {\n        text-align: right;\n    }\n</style>\n<table border=\"1\" class=\"dataframe\">\n  <thead>\n    <tr style=\"text-align: right;\">\n      <th></th>\n      <th>VendorID</th>\n      <th>tpep_pickup_datetime</th>\n      <th>tpep_dropoff_datetime</th>\n      <th>passenger_count</th>\n      <th>trip_distance</th>\n      <th>RatecodeID</th>\n      <th>store_and_fwd_flag</th>\n      <th>PULocationID</th>\n      <th>DOLocationID</th>\n      <th>payment_type</th>\n      <th>fare_amount</th>\n      <th>extra</th>\n      <th>mta_tax</th>\n      <th>tip_amount</th>\n      <th>tolls_amount</th>\n      <th>improvement_surcharge</th>\n      <th>total_amount</th>\n      <th>congestion_surcharge</th>\n    </tr>\n  </thead>\n  <tbody>\n    <tr>\n      <th>0</th>\n      <td>1.0</td>\n      <td>2020-06-01 00:31:23</td>\n      <td>2020-06-01 00:49:58</td>\n      <td>1.0</td>\n      <td>3.6</td>\n      <td>1.0</td>\n      <td>N</td>\n      <td>140</td>\n      <td>68</td>\n      <td>1.0</td>\n      <td>15.5</td>\n      <td>3.0</td>\n      <td>0.5</td>\n      <td>4.00</td>\n      <td>0.0</td>\n      <td>0.3</td>\n      <td>23.30</td>\n      <td>2.5</td>\n    </tr>\n    <tr>\n      <th>1</th>\n      <td>1.0</td>\n      <td>2020-06-01 00:42:50</td>\n      <td>2020-06-01 01:04:33</td>\n      <td>1.0</td>\n      <td>5.6</td>\n      <td>1.0</td>\n      <td>N</td>\n      <td>79</td>\n      <td>226</td>\n      <td>1.0</td>\n      <td>19.5</td>\n      <td>3.0</td>\n      <td>0.5</td>\n      <td>2.00</td>\n      <td>0.0</td>\n      <td>0.3</td>\n      <td>25.30</td>\n      <td>2.5</td>\n    </tr>\n    <tr>\n      <th>2</th>\n      <td>1.0</td>\n      <td>2020-06-01 00:39:51</td>\n      <td>2020-06-01 00:49:09</td>\n      <td>1.0</td>\n      <td>2.3</td>\n      <td>1.0</td>\n      <td>N</td>\n      <td>238</td>\n      <td>116</td>\n      <td>2.0</td>\n      <td>10.0</td>\n      <td>0.5</td>\n      <td>0.5</td>\n      <td>0.00</td>\n      <td>0.0</td>\n      <td>0.3</td>\n      <td>11.30</td>\n      <td>0.0</td>\n    </tr>\n    <tr>\n      <th>3</th>\n      <td>1.0</td>\n      <td>2020-06-01 00:56:13</td>\n      <td>2020-06-01 01:11:38</td>\n      <td>1.0</td>\n      <td>5.3</td>\n      <td>1.0</td>\n      <td>N</td>\n      <td>141</td>\n      <td>116</td>\n      <td>2.0</td>\n      <td>17.5</td>\n      <td>3.0</td>\n      <td>0.5</td>\n      <td>0.00</td>\n      <td>0.0</td>\n      <td>0.3</td>\n      <td>21.30</td>\n      <td>2.5</td>\n    </tr>\n    <tr>\n      <th>4</th>\n      <td>1.0</td>\n      <td>2020-06-01 00:16:41</td>\n      <td>2020-06-01 00:29:30</td>\n      <td>1.0</td>\n      <td>4.4</td>\n      <td>1.0</td>\n      <td>N</td>\n      <td>186</td>\n      <td>75</td>\n      <td>1.0</td>\n      <td>14.5</td>\n      <td>3.0</td>\n      <td>0.5</td>\n      <td>3.65</td>\n      <td>0.0</td>\n      <td>0.3</td>\n      <td>21.95</td>\n      <td>2.5</td>\n    </tr>\n  </tbody>\n</table>\n</div>"
     },
     "metadata": {},
     "execution_count": 2
    }
   ],
   "source": [
    "data = pd.read_csv(\"data/yellow_tripdata_2020-06.csv\")\n",
    "data.head()"
   ]
  },
  {
   "source": [
    "profiling分析"
   ],
   "cell_type": "markdown",
   "metadata": {}
  },
  {
   "cell_type": "code",
   "execution_count": 3,
   "metadata": {},
   "outputs": [],
   "source": [
    "# import pandas_profiling\n",
    "# pfr = pandas_profiling.ProfileReport(data)\n",
    "# pfr.to_file('report.html')"
   ]
  },
  {
   "source": [
    "## 数据分析\n",
    "\n",
    "### 变量分析\n",
    "\n",
    "对profiling得到的报告进行分析\n",
    "\n",
    "|变量|含义|类型|待处理|\n",
    "|:-|:-|:-|:-|\n",
    "|VendorID|记录提供商|Categorical|缺省9.2%|\n",
    "|tpep_pickup_datetime|上车时间|Datetime||\n",
    "|tpep_dropoff_datetime|下车时间|Datetime||\n",
    "|passenger_count|乘客数量|Categorical Number|缺省9.2%，零值2.4%|\n",
    "|trip_distance|打车距离|Contiguous Number|零值3.2%，存在异常值(极大值)|\n",
    "|RatecodeID|价格代码|Categorical Number|缺省9.2%|\n",
    "|store_and_fwd_flag|是否保存在车辆内存中|Boolean|缺省9.2%|\n",
    "|PULocationID|上车区域ID|Categorical Number||\n",
    "|DOLocationID|下车区域ID|Categorical Number||\n",
    "|payment_type|支付类别|Categorical Number|缺省9.2%|\n",
    "|fare_amount|距离计价|Contiguous Number|存在异常值(负值，极大值)|\n",
    "|extra|附加费|Contiguous Number|零值47.8%(正常)|\n",
    "|mta_tax|交通税|Categorical Number|两类|\n",
    "|tip_amount|小费|Contiguous Number|零值41.0%(正常)|\n",
    "|tolls_amount|过路费|Contiguous Number|零值94.7%(正常)，存在异常值(极大值)|\n",
    "|improvement_surcharge|改善附加费|Categorical Number|两类，存在异常值(负值)|\n",
    "|total_amount|总费用|Contiguous Number|存在异常值(负值，极大值)|\n",
    "|congestion_surcharge|拥挤附加费|Categorical Number|两类，存在异常值(负值)|"
   ],
   "cell_type": "markdown",
   "metadata": {}
  },
  {
   "source": [
    "### 上下车差值\n",
    "\n",
    "有1-265个区域，我们以一个小时为观测时间，该段时间内该区域下车记录减去上车记录，存在正负值（负值表示上车的车辆数更多）"
   ],
   "cell_type": "markdown",
   "metadata": {}
  },
  {
   "cell_type": "code",
   "execution_count": 4,
   "metadata": {},
   "outputs": [],
   "source": [
    "time_format =\"%Y-%m-%d %H:%M:%S\"\n",
    "\n",
    "def cal_diff(filename, write = True):\n",
    "    data = pd.read_csv(filename).drop(columns=['Unnamed: 0'])\n",
    "    year_month = filename.split(\"_\")[-1].split(\".\")[0]\n",
    "    \n",
    "    start_time = datetime.strptime(year_month, \"%Y-%m\")\n",
    "    end_time = start_time + relativedelta(months = 1)\n",
    "\n",
    "    # start_time = \"2020-6-1 00:00:00\"\n",
    "    # end_time = \"2020-6-2 00:00:00\"\n",
    "\n",
    "    # start_time = datetime.strptime(start_time, time_format)\n",
    "    # end_time = datetime.strptime(end_time, time_format)\n",
    "\n",
    "    data[\"tpep_pickup_datetime\"] = pd.to_datetime(data[\"tpep_pickup_datetime\"])\n",
    "    data[\"tpep_dropoff_datetime\"] = pd.to_datetime(data[\"tpep_dropoff_datetime\"])\n",
    "\n",
    "    res_times = []\n",
    "    res_datas = []\n",
    "\n",
    "    print(\"Calculating file %s ...\" % filename)\n",
    "\n",
    "    while start_time < end_time:\n",
    "        # print(start_time)\n",
    "        # res_times.append(datetime.strftime(start_time, time_format))\n",
    "        res_times.append(start_time)\n",
    "        \n",
    "        tmp = start_time + timedelta(hours = 1)\n",
    "\n",
    "        # 对每个小时进行统计\n",
    "        res_data = np.zeros(265, dtype=np.int)\n",
    "\n",
    "        pickup = data.loc[(data[\"tpep_pickup_datetime\"] > start_time) & (data[\"tpep_pickup_datetime\"] < tmp)][\"PULocationID\"]\n",
    "        pickup.reset_index(drop=True, inplace=True)\n",
    "        dropoff = data.loc[(data[\"tpep_dropoff_datetime\"] > start_time) & (data[\"tpep_dropoff_datetime\"] < tmp)][\"DOLocationID\"]\n",
    "        dropoff.reset_index(drop=True, inplace=True)\n",
    "        for i in range(pickup.shape[0]):\n",
    "            res_data[pickup[i] - 1] -= 1\n",
    "        for i in range(dropoff.shape[0]):\n",
    "            res_data[dropoff[i] - 1] += 1\n",
    "        \n",
    "        res_datas.append(res_data)\n",
    "\n",
    "        start_time = tmp\n",
    "\n",
    "    res_times = pd.DataFrame(np.array(res_times)).rename(columns = {0: 'time'})\n",
    "    res_datas = pd.DataFrame(np.array(res_datas))\n",
    "\n",
    "    res = pd.concat([res_times, res_datas], axis = 1)\n",
    "    if write:\n",
    "        res.to_csv(\"data/diff/%s.csv\" % (year_month), index=False)\n",
    "    print(\"Done!\")\n",
    "    return res\n",
    "\n",
    "# cal_diff(\"data/clear_data/new_yellow_tripdata_2020-06.csv\")"
   ]
  },
  {
   "source": [
    "我们对数据清洗过的一年半的数据进行差值计算"
   ],
   "cell_type": "markdown",
   "metadata": {}
  },
  {
   "cell_type": "code",
   "execution_count": null,
   "metadata": {},
   "outputs": [],
   "source": []
  },
  {
   "source": [
    "matplotlib画图"
   ],
   "cell_type": "markdown",
   "metadata": {}
  },
  {
   "cell_type": "code",
   "execution_count": 5,
   "metadata": {},
   "outputs": [
    {
     "output_type": "execute_result",
     "data": {
      "text/plain": [
       "                  time  0  1  2  3  4  5  6  7  8  ...  255  256  257  258  \\\n",
       "0  2020-06-01 00:00:00  0  0  0  0  0  0 -1  0  0  ...    1    0    1    0   \n",
       "1  2020-06-01 01:00:00  0  0  0  0  0  0  2  0  0  ...    0    0   -2    1   \n",
       "2  2020-06-01 02:00:00  0  0  0  0  0  0  3  0  0  ...    0    0    1    0   \n",
       "3  2020-06-01 03:00:00  0  0  0  0  0  0  0  0  0  ...   -1    0   -3   -1   \n",
       "4  2020-06-01 04:00:00  0  0  0  0  0  0 -2  0  1  ...    0    0    0   -2   \n",
       "\n",
       "   259  260  261  262  263  264  \n",
       "0    0    0    0    3    0    1  \n",
       "1   -1   -1    1    0   -1    0  \n",
       "2    1    0    0    1    1    1  \n",
       "3    0    2   -3   -3    0    0  \n",
       "4    0   -1    2   -3    0    0  \n",
       "\n",
       "[5 rows x 266 columns]"
      ],
      "text/html": "<div>\n<style scoped>\n    .dataframe tbody tr th:only-of-type {\n        vertical-align: middle;\n    }\n\n    .dataframe tbody tr th {\n        vertical-align: top;\n    }\n\n    .dataframe thead th {\n        text-align: right;\n    }\n</style>\n<table border=\"1\" class=\"dataframe\">\n  <thead>\n    <tr style=\"text-align: right;\">\n      <th></th>\n      <th>time</th>\n      <th>0</th>\n      <th>1</th>\n      <th>2</th>\n      <th>3</th>\n      <th>4</th>\n      <th>5</th>\n      <th>6</th>\n      <th>7</th>\n      <th>8</th>\n      <th>...</th>\n      <th>255</th>\n      <th>256</th>\n      <th>257</th>\n      <th>258</th>\n      <th>259</th>\n      <th>260</th>\n      <th>261</th>\n      <th>262</th>\n      <th>263</th>\n      <th>264</th>\n    </tr>\n  </thead>\n  <tbody>\n    <tr>\n      <th>0</th>\n      <td>2020-06-01 00:00:00</td>\n      <td>0</td>\n      <td>0</td>\n      <td>0</td>\n      <td>0</td>\n      <td>0</td>\n      <td>0</td>\n      <td>-1</td>\n      <td>0</td>\n      <td>0</td>\n      <td>...</td>\n      <td>1</td>\n      <td>0</td>\n      <td>1</td>\n      <td>0</td>\n      <td>0</td>\n      <td>0</td>\n      <td>0</td>\n      <td>3</td>\n      <td>0</td>\n      <td>1</td>\n    </tr>\n    <tr>\n      <th>1</th>\n      <td>2020-06-01 01:00:00</td>\n      <td>0</td>\n      <td>0</td>\n      <td>0</td>\n      <td>0</td>\n      <td>0</td>\n      <td>0</td>\n      <td>2</td>\n      <td>0</td>\n      <td>0</td>\n      <td>...</td>\n      <td>0</td>\n      <td>0</td>\n      <td>-2</td>\n      <td>1</td>\n      <td>-1</td>\n      <td>-1</td>\n      <td>1</td>\n      <td>0</td>\n      <td>-1</td>\n      <td>0</td>\n    </tr>\n    <tr>\n      <th>2</th>\n      <td>2020-06-01 02:00:00</td>\n      <td>0</td>\n      <td>0</td>\n      <td>0</td>\n      <td>0</td>\n      <td>0</td>\n      <td>0</td>\n      <td>3</td>\n      <td>0</td>\n      <td>0</td>\n      <td>...</td>\n      <td>0</td>\n      <td>0</td>\n      <td>1</td>\n      <td>0</td>\n      <td>1</td>\n      <td>0</td>\n      <td>0</td>\n      <td>1</td>\n      <td>1</td>\n      <td>1</td>\n    </tr>\n    <tr>\n      <th>3</th>\n      <td>2020-06-01 03:00:00</td>\n      <td>0</td>\n      <td>0</td>\n      <td>0</td>\n      <td>0</td>\n      <td>0</td>\n      <td>0</td>\n      <td>0</td>\n      <td>0</td>\n      <td>0</td>\n      <td>...</td>\n      <td>-1</td>\n      <td>0</td>\n      <td>-3</td>\n      <td>-1</td>\n      <td>0</td>\n      <td>2</td>\n      <td>-3</td>\n      <td>-3</td>\n      <td>0</td>\n      <td>0</td>\n    </tr>\n    <tr>\n      <th>4</th>\n      <td>2020-06-01 04:00:00</td>\n      <td>0</td>\n      <td>0</td>\n      <td>0</td>\n      <td>0</td>\n      <td>0</td>\n      <td>0</td>\n      <td>-2</td>\n      <td>0</td>\n      <td>1</td>\n      <td>...</td>\n      <td>0</td>\n      <td>0</td>\n      <td>0</td>\n      <td>-2</td>\n      <td>0</td>\n      <td>-1</td>\n      <td>2</td>\n      <td>-3</td>\n      <td>0</td>\n      <td>0</td>\n    </tr>\n  </tbody>\n</table>\n<p>5 rows × 266 columns</p>\n</div>"
     },
     "metadata": {},
     "execution_count": 5
    }
   ],
   "source": [
    "# res = cal_diff(\"data/clear_data/new_yellow_tripdata_2020-06.csv\", write=False)\n",
    "res = pd.read_csv(\"data/diff/2020-06.csv\")\n",
    "res.head()"
   ]
  },
  {
   "cell_type": "code",
   "execution_count": 14,
   "metadata": {},
   "outputs": [],
   "source": [
    "%matplotlib qt\n",
    "\n",
    "res_datas = res.iloc[:, 1:]\n",
    "res_times = res.iloc[:, 0]\n",
    "\n",
    "# print(res_times)\n",
    "# print(res_datas.index)\n",
    "\n",
    "# 创建画布\n",
    "sns.set_style(\"whitegrid\")\n",
    "fig = plt.figure(figsize=(15, 10))\n",
    "\n",
    "plt.ion()\n",
    "\n",
    "plt.rcParams['font.sans-serif'] = ['SimHei']  # 用来正常显示中文标签\n",
    "plt.rcParams['axes.unicode_minus'] = False  # 用来正常显示负号\n",
    "\n",
    "for i in range(res.shape[0]):\n",
    "\n",
    "    if i == 50:\n",
    "        break\n",
    "\n",
    "    plt_data = res_datas.loc[i]\n",
    "    plt_data.index = plt_data.index.astype(int)\n",
    "    plt_data0 = plt_data.loc[(plt_data > 0) & (plt_data <= 20)]\n",
    "    plt_data1 = plt_data.loc[(plt_data < 0) & (plt_data >= -20)]\n",
    "    plt_data2 = plt_data.loc[plt_data > 20]\n",
    "    plt_data3 = plt_data.loc[plt_data < -20]\n",
    "\n",
    "    plt.cla()\n",
    "\n",
    "    plt.xlabel('区域ID', fontsize=20)\n",
    "    plt.ylabel('下车-上车', fontsize=20)\n",
    "    plt.xlim([0, 264])\n",
    "    plt.ylim([-20, 20])\n",
    "\n",
    "    plt.title(res_times[i], fontsize=20)\n",
    "\n",
    "    bar0 = plt.bar(x=plt_data0.index.values, height=plt_data0, color='r')\n",
    "    bar1 = plt.bar(x=plt_data1.index.values, height=plt_data1, color='b')\n",
    "    bar2 = plt.bar(x=plt_data2.index.values, height=plt_data2, color='orange')\n",
    "    bar3 = plt.bar(x=plt_data3.index.values, height=plt_data3, color='purple')\n",
    "    # print(plt_data3.index.values)\n",
    "    for a, b in zip(plt_data2.index.values, plt_data2):\n",
    "        text0 = plt.text(a - 6, 18.5, '%.0f'%b, ha = 'center', va = 'bottom', fontsize=20, color='orange')\n",
    "    for a, b in zip(plt_data3.index.values, plt_data3):\n",
    "        text1 = plt.text(a - 6, -20, '%.0f'%b, ha = 'center', va = 'bottom', fontsize=20, color='purple')\n",
    "\n",
    "    plt.pause(0.1)\n",
    "\n",
    "plt.ioff()\n",
    "\n",
    "plt.show()"
   ]
  },
  {
   "cell_type": "code",
   "execution_count": 13,
   "metadata": {},
   "outputs": [
    {
     "output_type": "stream",
     "name": "stdout",
     "text": [
      "Using matplotlib backend: Qt5Agg\nPopulating the interactive namespace from numpy and matplotlib\n"
     ]
    }
   ],
   "source": [
    "%pylab"
   ]
  },
  {
   "cell_type": "code",
   "execution_count": null,
   "metadata": {},
   "outputs": [],
   "source": []
  }
 ],
 "metadata": {
  "kernelspec": {
   "display_name": "Python 3",
   "language": "python",
   "name": "python3"
  },
  "language_info": {
   "codemirror_mode": {
    "name": "ipython",
    "version": 3
   },
   "file_extension": ".py",
   "mimetype": "text/x-python",
   "name": "python",
   "nbconvert_exporter": "python",
   "pygments_lexer": "ipython3",
   "version": "3.8.3-final"
  }
 },
 "nbformat": 4,
 "nbformat_minor": 4
}