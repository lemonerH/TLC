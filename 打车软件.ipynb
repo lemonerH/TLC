{
 "cells": [
  {
   "source": [
    "# 打车软件\n",
    "\n",
    "---\n",
    "\n",
    "概述\n",
    "\n",
    "数据来源：\n",
    "\n",
    "<https://www1.nyc.gov/site/tlc/about/tlc-trip-record-data.page>\n",
    "\n",
    "\n",
    "数据描述：\n",
    "\n",
    "<https://www1.nyc.gov/assets/tlc/downloads/pdf/data_dictionary_trip_records_yellow.pdf>"
   ],
   "cell_type": "markdown",
   "metadata": {}
  },
  {
   "cell_type": "code",
   "execution_count": 4,
   "metadata": {},
   "outputs": [],
   "source": [
    "import os\n",
    "import pandas as pd"
   ]
  },
  {
   "cell_type": "code",
   "execution_count": 6,
   "metadata": {},
   "outputs": [
    {
     "output_type": "execute_result",
     "data": {
      "text/plain": [
       "   VendorID tpep_pickup_datetime tpep_dropoff_datetime  passenger_count  \\\n",
       "0       1.0  2020-06-01 00:31:23   2020-06-01 00:49:58              1.0   \n",
       "1       1.0  2020-06-01 00:42:50   2020-06-01 01:04:33              1.0   \n",
       "2       1.0  2020-06-01 00:39:51   2020-06-01 00:49:09              1.0   \n",
       "3       1.0  2020-06-01 00:56:13   2020-06-01 01:11:38              1.0   \n",
       "4       1.0  2020-06-01 00:16:41   2020-06-01 00:29:30              1.0   \n",
       "\n",
       "   trip_distance  RatecodeID store_and_fwd_flag  PULocationID  DOLocationID  \\\n",
       "0            3.6         1.0                  N           140            68   \n",
       "1            5.6         1.0                  N            79           226   \n",
       "2            2.3         1.0                  N           238           116   \n",
       "3            5.3         1.0                  N           141           116   \n",
       "4            4.4         1.0                  N           186            75   \n",
       "\n",
       "   payment_type  fare_amount  extra  mta_tax  tip_amount  tolls_amount  \\\n",
       "0           1.0         15.5    3.0      0.5        4.00           0.0   \n",
       "1           1.0         19.5    3.0      0.5        2.00           0.0   \n",
       "2           2.0         10.0    0.5      0.5        0.00           0.0   \n",
       "3           2.0         17.5    3.0      0.5        0.00           0.0   \n",
       "4           1.0         14.5    3.0      0.5        3.65           0.0   \n",
       "\n",
       "   improvement_surcharge  total_amount  congestion_surcharge  \n",
       "0                    0.3         23.30                   2.5  \n",
       "1                    0.3         25.30                   2.5  \n",
       "2                    0.3         11.30                   0.0  \n",
       "3                    0.3         21.30                   2.5  \n",
       "4                    0.3         21.95                   2.5  "
      ],
      "text/html": "<div>\n<style scoped>\n    .dataframe tbody tr th:only-of-type {\n        vertical-align: middle;\n    }\n\n    .dataframe tbody tr th {\n        vertical-align: top;\n    }\n\n    .dataframe thead th {\n        text-align: right;\n    }\n</style>\n<table border=\"1\" class=\"dataframe\">\n  <thead>\n    <tr style=\"text-align: right;\">\n      <th></th>\n      <th>VendorID</th>\n      <th>tpep_pickup_datetime</th>\n      <th>tpep_dropoff_datetime</th>\n      <th>passenger_count</th>\n      <th>trip_distance</th>\n      <th>RatecodeID</th>\n      <th>store_and_fwd_flag</th>\n      <th>PULocationID</th>\n      <th>DOLocationID</th>\n      <th>payment_type</th>\n      <th>fare_amount</th>\n      <th>extra</th>\n      <th>mta_tax</th>\n      <th>tip_amount</th>\n      <th>tolls_amount</th>\n      <th>improvement_surcharge</th>\n      <th>total_amount</th>\n      <th>congestion_surcharge</th>\n    </tr>\n  </thead>\n  <tbody>\n    <tr>\n      <th>0</th>\n      <td>1.0</td>\n      <td>2020-06-01 00:31:23</td>\n      <td>2020-06-01 00:49:58</td>\n      <td>1.0</td>\n      <td>3.6</td>\n      <td>1.0</td>\n      <td>N</td>\n      <td>140</td>\n      <td>68</td>\n      <td>1.0</td>\n      <td>15.5</td>\n      <td>3.0</td>\n      <td>0.5</td>\n      <td>4.00</td>\n      <td>0.0</td>\n      <td>0.3</td>\n      <td>23.30</td>\n      <td>2.5</td>\n    </tr>\n    <tr>\n      <th>1</th>\n      <td>1.0</td>\n      <td>2020-06-01 00:42:50</td>\n      <td>2020-06-01 01:04:33</td>\n      <td>1.0</td>\n      <td>5.6</td>\n      <td>1.0</td>\n      <td>N</td>\n      <td>79</td>\n      <td>226</td>\n      <td>1.0</td>\n      <td>19.5</td>\n      <td>3.0</td>\n      <td>0.5</td>\n      <td>2.00</td>\n      <td>0.0</td>\n      <td>0.3</td>\n      <td>25.30</td>\n      <td>2.5</td>\n    </tr>\n    <tr>\n      <th>2</th>\n      <td>1.0</td>\n      <td>2020-06-01 00:39:51</td>\n      <td>2020-06-01 00:49:09</td>\n      <td>1.0</td>\n      <td>2.3</td>\n      <td>1.0</td>\n      <td>N</td>\n      <td>238</td>\n      <td>116</td>\n      <td>2.0</td>\n      <td>10.0</td>\n      <td>0.5</td>\n      <td>0.5</td>\n      <td>0.00</td>\n      <td>0.0</td>\n      <td>0.3</td>\n      <td>11.30</td>\n      <td>0.0</td>\n    </tr>\n    <tr>\n      <th>3</th>\n      <td>1.0</td>\n      <td>2020-06-01 00:56:13</td>\n      <td>2020-06-01 01:11:38</td>\n      <td>1.0</td>\n      <td>5.3</td>\n      <td>1.0</td>\n      <td>N</td>\n      <td>141</td>\n      <td>116</td>\n      <td>2.0</td>\n      <td>17.5</td>\n      <td>3.0</td>\n      <td>0.5</td>\n      <td>0.00</td>\n      <td>0.0</td>\n      <td>0.3</td>\n      <td>21.30</td>\n      <td>2.5</td>\n    </tr>\n    <tr>\n      <th>4</th>\n      <td>1.0</td>\n      <td>2020-06-01 00:16:41</td>\n      <td>2020-06-01 00:29:30</td>\n      <td>1.0</td>\n      <td>4.4</td>\n      <td>1.0</td>\n      <td>N</td>\n      <td>186</td>\n      <td>75</td>\n      <td>1.0</td>\n      <td>14.5</td>\n      <td>3.0</td>\n      <td>0.5</td>\n      <td>3.65</td>\n      <td>0.0</td>\n      <td>0.3</td>\n      <td>21.95</td>\n      <td>2.5</td>\n    </tr>\n  </tbody>\n</table>\n</div>"
     },
     "metadata": {},
     "execution_count": 6
    }
   ],
   "source": [
    "data = pd.read_csv(\"data/yellow_tripdata_2020-06.csv\")\n",
    "data.head()"
   ]
  },
  {
   "cell_type": "code",
   "execution_count": null,
   "metadata": {},
   "outputs": [],
   "source": []
  }
 ],
 "metadata": {
  "kernelspec": {
   "display_name": "Python 3",
   "language": "python",
   "name": "python3"
  },
  "language_info": {
   "codemirror_mode": {
    "name": "ipython",
    "version": 3
   },
   "file_extension": ".py",
   "mimetype": "text/x-python",
   "name": "python",
   "nbconvert_exporter": "python",
   "pygments_lexer": "ipython3",
   "version": "3.8.3-final"
  }
 },
 "nbformat": 4,
 "nbformat_minor": 4
}