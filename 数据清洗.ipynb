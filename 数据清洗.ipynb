{
 "metadata": {
  "language_info": {
   "codemirror_mode": {
    "name": "ipython",
    "version": 3
   },
   "file_extension": ".py",
   "mimetype": "text/x-python",
   "name": "python",
   "nbconvert_exporter": "python",
   "pygments_lexer": "ipython3",
   "version": "3.8.3-final"
  },
  "orig_nbformat": 2,
  "kernelspec": {
   "name": "python3",
   "display_name": "Python 3"
  }
 },
 "nbformat": 4,
 "nbformat_minor": 2,
 "cells": [
  {
   "cell_type": "code",
   "execution_count": 1,
   "metadata": {},
   "outputs": [],
   "source": [
    "import os\n",
    "import pandas as pd"
   ]
  },
  {
   "cell_type": "code",
   "execution_count": 2,
   "metadata": {},
   "outputs": [
    {
     "output_type": "execute_result",
     "data": {
      "text/plain": [
       "   VendorID tpep_pickup_datetime tpep_dropoff_datetime  passenger_count  \\\n",
       "0       1.0  2020-06-01 00:31:23   2020-06-01 00:49:58              1.0   \n",
       "1       1.0  2020-06-01 00:42:50   2020-06-01 01:04:33              1.0   \n",
       "2       1.0  2020-06-01 00:39:51   2020-06-01 00:49:09              1.0   \n",
       "3       1.0  2020-06-01 00:56:13   2020-06-01 01:11:38              1.0   \n",
       "4       1.0  2020-06-01 00:16:41   2020-06-01 00:29:30              1.0   \n",
       "\n",
       "   trip_distance  RatecodeID store_and_fwd_flag  PULocationID  DOLocationID  \\\n",
       "0            3.6         1.0                  N           140            68   \n",
       "1            5.6         1.0                  N            79           226   \n",
       "2            2.3         1.0                  N           238           116   \n",
       "3            5.3         1.0                  N           141           116   \n",
       "4            4.4         1.0                  N           186            75   \n",
       "\n",
       "   payment_type  fare_amount  extra  mta_tax  tip_amount  tolls_amount  \\\n",
       "0           1.0         15.5    3.0      0.5        4.00           0.0   \n",
       "1           1.0         19.5    3.0      0.5        2.00           0.0   \n",
       "2           2.0         10.0    0.5      0.5        0.00           0.0   \n",
       "3           2.0         17.5    3.0      0.5        0.00           0.0   \n",
       "4           1.0         14.5    3.0      0.5        3.65           0.0   \n",
       "\n",
       "   improvement_surcharge  total_amount  congestion_surcharge  \n",
       "0                    0.3         23.30                   2.5  \n",
       "1                    0.3         25.30                   2.5  \n",
       "2                    0.3         11.30                   0.0  \n",
       "3                    0.3         21.30                   2.5  \n",
       "4                    0.3         21.95                   2.5  "
      ],
      "text/html": "<div>\n<style scoped>\n    .dataframe tbody tr th:only-of-type {\n        vertical-align: middle;\n    }\n\n    .dataframe tbody tr th {\n        vertical-align: top;\n    }\n\n    .dataframe thead th {\n        text-align: right;\n    }\n</style>\n<table border=\"1\" class=\"dataframe\">\n  <thead>\n    <tr style=\"text-align: right;\">\n      <th></th>\n      <th>VendorID</th>\n      <th>tpep_pickup_datetime</th>\n      <th>tpep_dropoff_datetime</th>\n      <th>passenger_count</th>\n      <th>trip_distance</th>\n      <th>RatecodeID</th>\n      <th>store_and_fwd_flag</th>\n      <th>PULocationID</th>\n      <th>DOLocationID</th>\n      <th>payment_type</th>\n      <th>fare_amount</th>\n      <th>extra</th>\n      <th>mta_tax</th>\n      <th>tip_amount</th>\n      <th>tolls_amount</th>\n      <th>improvement_surcharge</th>\n      <th>total_amount</th>\n      <th>congestion_surcharge</th>\n    </tr>\n  </thead>\n  <tbody>\n    <tr>\n      <th>0</th>\n      <td>1.0</td>\n      <td>2020-06-01 00:31:23</td>\n      <td>2020-06-01 00:49:58</td>\n      <td>1.0</td>\n      <td>3.6</td>\n      <td>1.0</td>\n      <td>N</td>\n      <td>140</td>\n      <td>68</td>\n      <td>1.0</td>\n      <td>15.5</td>\n      <td>3.0</td>\n      <td>0.5</td>\n      <td>4.00</td>\n      <td>0.0</td>\n      <td>0.3</td>\n      <td>23.30</td>\n      <td>2.5</td>\n    </tr>\n    <tr>\n      <th>1</th>\n      <td>1.0</td>\n      <td>2020-06-01 00:42:50</td>\n      <td>2020-06-01 01:04:33</td>\n      <td>1.0</td>\n      <td>5.6</td>\n      <td>1.0</td>\n      <td>N</td>\n      <td>79</td>\n      <td>226</td>\n      <td>1.0</td>\n      <td>19.5</td>\n      <td>3.0</td>\n      <td>0.5</td>\n      <td>2.00</td>\n      <td>0.0</td>\n      <td>0.3</td>\n      <td>25.30</td>\n      <td>2.5</td>\n    </tr>\n    <tr>\n      <th>2</th>\n      <td>1.0</td>\n      <td>2020-06-01 00:39:51</td>\n      <td>2020-06-01 00:49:09</td>\n      <td>1.0</td>\n      <td>2.3</td>\n      <td>1.0</td>\n      <td>N</td>\n      <td>238</td>\n      <td>116</td>\n      <td>2.0</td>\n      <td>10.0</td>\n      <td>0.5</td>\n      <td>0.5</td>\n      <td>0.00</td>\n      <td>0.0</td>\n      <td>0.3</td>\n      <td>11.30</td>\n      <td>0.0</td>\n    </tr>\n    <tr>\n      <th>3</th>\n      <td>1.0</td>\n      <td>2020-06-01 00:56:13</td>\n      <td>2020-06-01 01:11:38</td>\n      <td>1.0</td>\n      <td>5.3</td>\n      <td>1.0</td>\n      <td>N</td>\n      <td>141</td>\n      <td>116</td>\n      <td>2.0</td>\n      <td>17.5</td>\n      <td>3.0</td>\n      <td>0.5</td>\n      <td>0.00</td>\n      <td>0.0</td>\n      <td>0.3</td>\n      <td>21.30</td>\n      <td>2.5</td>\n    </tr>\n    <tr>\n      <th>4</th>\n      <td>1.0</td>\n      <td>2020-06-01 00:16:41</td>\n      <td>2020-06-01 00:29:30</td>\n      <td>1.0</td>\n      <td>4.4</td>\n      <td>1.0</td>\n      <td>N</td>\n      <td>186</td>\n      <td>75</td>\n      <td>1.0</td>\n      <td>14.5</td>\n      <td>3.0</td>\n      <td>0.5</td>\n      <td>3.65</td>\n      <td>0.0</td>\n      <td>0.3</td>\n      <td>21.95</td>\n      <td>2.5</td>\n    </tr>\n  </tbody>\n</table>\n</div>"
     },
     "metadata": {},
     "execution_count": 2
    }
   ],
   "source": [
    "data = pd.read_csv(\"data/yellow_tripdata_2020-06.csv\")\n",
    "data.head()"
   ]
  },
  {
   "cell_type": "code",
   "execution_count": 3,
   "metadata": {},
   "outputs": [
    {
     "output_type": "execute_result",
     "data": {
      "text/plain": [
       "  tpep_pickup_datetime tpep_dropoff_datetime  trip_distance  PULocationID  \\\n",
       "0  2020-06-01 00:31:23   2020-06-01 00:49:58            3.6           140   \n",
       "1  2020-06-01 00:42:50   2020-06-01 01:04:33            5.6            79   \n",
       "2  2020-06-01 00:39:51   2020-06-01 00:49:09            2.3           238   \n",
       "3  2020-06-01 00:56:13   2020-06-01 01:11:38            5.3           141   \n",
       "4  2020-06-01 00:16:41   2020-06-01 00:29:30            4.4           186   \n",
       "\n",
       "   DOLocationID  \n",
       "0            68  \n",
       "1           226  \n",
       "2           116  \n",
       "3           116  \n",
       "4            75  "
      ],
      "text/html": "<div>\n<style scoped>\n    .dataframe tbody tr th:only-of-type {\n        vertical-align: middle;\n    }\n\n    .dataframe tbody tr th {\n        vertical-align: top;\n    }\n\n    .dataframe thead th {\n        text-align: right;\n    }\n</style>\n<table border=\"1\" class=\"dataframe\">\n  <thead>\n    <tr style=\"text-align: right;\">\n      <th></th>\n      <th>tpep_pickup_datetime</th>\n      <th>tpep_dropoff_datetime</th>\n      <th>trip_distance</th>\n      <th>PULocationID</th>\n      <th>DOLocationID</th>\n    </tr>\n  </thead>\n  <tbody>\n    <tr>\n      <th>0</th>\n      <td>2020-06-01 00:31:23</td>\n      <td>2020-06-01 00:49:58</td>\n      <td>3.6</td>\n      <td>140</td>\n      <td>68</td>\n    </tr>\n    <tr>\n      <th>1</th>\n      <td>2020-06-01 00:42:50</td>\n      <td>2020-06-01 01:04:33</td>\n      <td>5.6</td>\n      <td>79</td>\n      <td>226</td>\n    </tr>\n    <tr>\n      <th>2</th>\n      <td>2020-06-01 00:39:51</td>\n      <td>2020-06-01 00:49:09</td>\n      <td>2.3</td>\n      <td>238</td>\n      <td>116</td>\n    </tr>\n    <tr>\n      <th>3</th>\n      <td>2020-06-01 00:56:13</td>\n      <td>2020-06-01 01:11:38</td>\n      <td>5.3</td>\n      <td>141</td>\n      <td>116</td>\n    </tr>\n    <tr>\n      <th>4</th>\n      <td>2020-06-01 00:16:41</td>\n      <td>2020-06-01 00:29:30</td>\n      <td>4.4</td>\n      <td>186</td>\n      <td>75</td>\n    </tr>\n  </tbody>\n</table>\n</div>"
     },
     "metadata": {},
     "execution_count": 3
    }
   ],
   "source": [
    "# 保留需要使用的数据\n",
    "n_data = data[['tpep_pickup_datetime', 'tpep_dropoff_datetime', 'trip_distance', 'PULocationID', 'DOLocationID']]\n",
    "n_data.head()"
   ]
  },
  {
   "cell_type": "code",
   "execution_count": 4,
   "metadata": {},
   "outputs": [
    {
     "output_type": "execute_result",
     "data": {
      "text/plain": [
       "(532324, 5)"
      ]
     },
     "metadata": {},
     "execution_count": 4
    }
   ],
   "source": [
    "# 去掉行进距离为0的数据\n",
    "n_data = n_data[~n_data['trip_distance'].isin([0])]\n",
    "n_data.shape"
   ]
  },
  {
   "cell_type": "code",
   "execution_count": 5,
   "metadata": {},
   "outputs": [],
   "source": [
    "# 计算行进时间，单位s\n",
    "n_data['duration'] = (pd.to_datetime(n_data['tpep_dropoff_datetime'] ) - pd.to_datetime(n_data['tpep_pickup_datetime'])).dt.total_seconds()"
   ]
  },
  {
   "cell_type": "code",
   "execution_count": 6,
   "metadata": {},
   "outputs": [
    {
     "output_type": "execute_result",
     "data": {
      "text/plain": [
       "(532269, 6)"
      ]
     },
     "metadata": {},
     "execution_count": 6
    }
   ],
   "source": [
    "# 去掉行进时间非正的数据\n",
    "n_data = n_data[~(n_data['duration'] <= 0)]\n",
    "n_data.shape"
   ]
  },
  {
   "cell_type": "code",
   "execution_count": 7,
   "metadata": {},
   "outputs": [],
   "source": [
    "# 计算行进速度，单位m/s\n",
    "n_data['speed'] = (n_data['trip_distance']/n_data['duration'])*1000"
   ]
  },
  {
   "cell_type": "code",
   "execution_count": 8,
   "metadata": {},
   "outputs": [
    {
     "output_type": "execute_result",
     "data": {
      "text/plain": [
       "(531803, 7)"
      ]
     },
     "metadata": {},
     "execution_count": 8
    }
   ],
   "source": [
    "# 去掉行进速度中过高的异常值，阈值为30m/s\n",
    "n_data = n_data[~(n_data['speed'] > 30)]\n",
    "n_data.shape"
   ]
  },
  {
   "cell_type": "code",
   "execution_count": 9,
   "metadata": {},
   "outputs": [
    {
     "output_type": "execute_result",
     "data": {
      "text/plain": [
       "(530934, 7)"
      ]
     },
     "metadata": {},
     "execution_count": 9
    }
   ],
   "source": [
    "#去掉行进时间中过高的异常值，阈值为14400s，即4小时\n",
    "n_data = n_data[~(n_data['duration'] > 14400)]\n",
    "n_data.shape"
   ]
  },
  {
   "cell_type": "code",
   "execution_count": 10,
   "metadata": {},
   "outputs": [
    {
     "output_type": "execute_result",
     "data": {
      "text/plain": [
       "  tpep_pickup_datetime tpep_dropoff_datetime  trip_distance  PULocationID  \\\n",
       "0  2020-06-01 00:31:23   2020-06-01 00:49:58            3.6           140   \n",
       "1  2020-06-01 00:42:50   2020-06-01 01:04:33            5.6            79   \n",
       "2  2020-06-01 00:39:51   2020-06-01 00:49:09            2.3           238   \n",
       "3  2020-06-01 00:56:13   2020-06-01 01:11:38            5.3           141   \n",
       "4  2020-06-01 00:16:41   2020-06-01 00:29:30            4.4           186   \n",
       "\n",
       "   DOLocationID  duration     speed  \n",
       "0            68    1115.0  3.228700  \n",
       "1           226    1303.0  4.297774  \n",
       "2           116     558.0  4.121864  \n",
       "3           116     925.0  5.729730  \n",
       "4            75     769.0  5.721717  "
      ],
      "text/html": "<div>\n<style scoped>\n    .dataframe tbody tr th:only-of-type {\n        vertical-align: middle;\n    }\n\n    .dataframe tbody tr th {\n        vertical-align: top;\n    }\n\n    .dataframe thead th {\n        text-align: right;\n    }\n</style>\n<table border=\"1\" class=\"dataframe\">\n  <thead>\n    <tr style=\"text-align: right;\">\n      <th></th>\n      <th>tpep_pickup_datetime</th>\n      <th>tpep_dropoff_datetime</th>\n      <th>trip_distance</th>\n      <th>PULocationID</th>\n      <th>DOLocationID</th>\n      <th>duration</th>\n      <th>speed</th>\n    </tr>\n  </thead>\n  <tbody>\n    <tr>\n      <th>0</th>\n      <td>2020-06-01 00:31:23</td>\n      <td>2020-06-01 00:49:58</td>\n      <td>3.6</td>\n      <td>140</td>\n      <td>68</td>\n      <td>1115.0</td>\n      <td>3.228700</td>\n    </tr>\n    <tr>\n      <th>1</th>\n      <td>2020-06-01 00:42:50</td>\n      <td>2020-06-01 01:04:33</td>\n      <td>5.6</td>\n      <td>79</td>\n      <td>226</td>\n      <td>1303.0</td>\n      <td>4.297774</td>\n    </tr>\n    <tr>\n      <th>2</th>\n      <td>2020-06-01 00:39:51</td>\n      <td>2020-06-01 00:49:09</td>\n      <td>2.3</td>\n      <td>238</td>\n      <td>116</td>\n      <td>558.0</td>\n      <td>4.121864</td>\n    </tr>\n    <tr>\n      <th>3</th>\n      <td>2020-06-01 00:56:13</td>\n      <td>2020-06-01 01:11:38</td>\n      <td>5.3</td>\n      <td>141</td>\n      <td>116</td>\n      <td>925.0</td>\n      <td>5.729730</td>\n    </tr>\n    <tr>\n      <th>4</th>\n      <td>2020-06-01 00:16:41</td>\n      <td>2020-06-01 00:29:30</td>\n      <td>4.4</td>\n      <td>186</td>\n      <td>75</td>\n      <td>769.0</td>\n      <td>5.721717</td>\n    </tr>\n  </tbody>\n</table>\n</div>"
     },
     "metadata": {},
     "execution_count": 10
    }
   ],
   "source": [
    "n_data.head()"
   ]
  },
  {
   "cell_type": "code",
   "execution_count": 11,
   "metadata": {},
   "outputs": [],
   "source": [
    "n_data.to_csv(\"data/new_yellow_tripdata_2020-06.csv\")"
   ]
  }
 ]
}