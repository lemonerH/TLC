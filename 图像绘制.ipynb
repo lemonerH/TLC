{
 "metadata": {
  "language_info": {
   "codemirror_mode": {
    "name": "ipython",
    "version": 3
   },
   "file_extension": ".py",
   "mimetype": "text/x-python",
   "name": "python",
   "nbconvert_exporter": "python",
   "pygments_lexer": "ipython3",
   "version": "3.8.3-final"
  },
  "orig_nbformat": 2,
  "kernelspec": {
   "name": "python3",
   "display_name": "Python 3",
   "language": "python"
  }
 },
 "nbformat": 4,
 "nbformat_minor": 2,
 "cells": [
  {
   "cell_type": "code",
   "execution_count": 2,
   "metadata": {},
   "outputs": [],
   "source": [
    "import os\n",
    "import pandas as pd\n",
    "import numpy as np\n",
    "import math"
   ]
  },
  {
   "cell_type": "code",
   "execution_count": 2,
   "metadata": {},
   "outputs": [
    {
     "output_type": "execute_result",
     "data": {
      "text/plain": [
       "                  time  0  1  2   3  4  5   6  7  8  ...  255  256  257  258  \\\n",
       "0  2019-02-01 00:00:00  1  0  0  37  0  0  30  0  0  ...   32    2    1   -1   \n",
       "1  2019-02-01 01:00:00  1  0  0  29  0  0  52  0  1  ...   30   10    4    1   \n",
       "2  2019-02-01 02:00:00  1  0  0  14  0  1  33  0  0  ...   10    4    0    1   \n",
       "3  2019-02-01 03:00:00  1  0  0  12  0  0  20  0  0  ...    3    1    0    1   \n",
       "4  2019-02-01 04:00:00  7  0  1   8  0  0  10  0  1  ...    3    0    3    1   \n",
       "\n",
       "   259  260  261  262  263  264  \n",
       "0   13   -4   47   57  -28   13  \n",
       "1   15    4   41   37   13   26  \n",
       "2   15    7   21    9    4   11  \n",
       "3    8    0   15    8    2    8  \n",
       "4    1    3   -5   -9    1   10  \n",
       "\n",
       "[5 rows x 266 columns]"
      ],
      "text/html": "<div>\n<style scoped>\n    .dataframe tbody tr th:only-of-type {\n        vertical-align: middle;\n    }\n\n    .dataframe tbody tr th {\n        vertical-align: top;\n    }\n\n    .dataframe thead th {\n        text-align: right;\n    }\n</style>\n<table border=\"1\" class=\"dataframe\">\n  <thead>\n    <tr style=\"text-align: right;\">\n      <th></th>\n      <th>time</th>\n      <th>0</th>\n      <th>1</th>\n      <th>2</th>\n      <th>3</th>\n      <th>4</th>\n      <th>5</th>\n      <th>6</th>\n      <th>7</th>\n      <th>8</th>\n      <th>...</th>\n      <th>255</th>\n      <th>256</th>\n      <th>257</th>\n      <th>258</th>\n      <th>259</th>\n      <th>260</th>\n      <th>261</th>\n      <th>262</th>\n      <th>263</th>\n      <th>264</th>\n    </tr>\n  </thead>\n  <tbody>\n    <tr>\n      <th>0</th>\n      <td>2019-02-01 00:00:00</td>\n      <td>1</td>\n      <td>0</td>\n      <td>0</td>\n      <td>37</td>\n      <td>0</td>\n      <td>0</td>\n      <td>30</td>\n      <td>0</td>\n      <td>0</td>\n      <td>...</td>\n      <td>32</td>\n      <td>2</td>\n      <td>1</td>\n      <td>-1</td>\n      <td>13</td>\n      <td>-4</td>\n      <td>47</td>\n      <td>57</td>\n      <td>-28</td>\n      <td>13</td>\n    </tr>\n    <tr>\n      <th>1</th>\n      <td>2019-02-01 01:00:00</td>\n      <td>1</td>\n      <td>0</td>\n      <td>0</td>\n      <td>29</td>\n      <td>0</td>\n      <td>0</td>\n      <td>52</td>\n      <td>0</td>\n      <td>1</td>\n      <td>...</td>\n      <td>30</td>\n      <td>10</td>\n      <td>4</td>\n      <td>1</td>\n      <td>15</td>\n      <td>4</td>\n      <td>41</td>\n      <td>37</td>\n      <td>13</td>\n      <td>26</td>\n    </tr>\n    <tr>\n      <th>2</th>\n      <td>2019-02-01 02:00:00</td>\n      <td>1</td>\n      <td>0</td>\n      <td>0</td>\n      <td>14</td>\n      <td>0</td>\n      <td>1</td>\n      <td>33</td>\n      <td>0</td>\n      <td>0</td>\n      <td>...</td>\n      <td>10</td>\n      <td>4</td>\n      <td>0</td>\n      <td>1</td>\n      <td>15</td>\n      <td>7</td>\n      <td>21</td>\n      <td>9</td>\n      <td>4</td>\n      <td>11</td>\n    </tr>\n    <tr>\n      <th>3</th>\n      <td>2019-02-01 03:00:00</td>\n      <td>1</td>\n      <td>0</td>\n      <td>0</td>\n      <td>12</td>\n      <td>0</td>\n      <td>0</td>\n      <td>20</td>\n      <td>0</td>\n      <td>0</td>\n      <td>...</td>\n      <td>3</td>\n      <td>1</td>\n      <td>0</td>\n      <td>1</td>\n      <td>8</td>\n      <td>0</td>\n      <td>15</td>\n      <td>8</td>\n      <td>2</td>\n      <td>8</td>\n    </tr>\n    <tr>\n      <th>4</th>\n      <td>2019-02-01 04:00:00</td>\n      <td>7</td>\n      <td>0</td>\n      <td>1</td>\n      <td>8</td>\n      <td>0</td>\n      <td>0</td>\n      <td>10</td>\n      <td>0</td>\n      <td>1</td>\n      <td>...</td>\n      <td>3</td>\n      <td>0</td>\n      <td>3</td>\n      <td>1</td>\n      <td>1</td>\n      <td>3</td>\n      <td>-5</td>\n      <td>-9</td>\n      <td>1</td>\n      <td>10</td>\n    </tr>\n  </tbody>\n</table>\n<p>5 rows × 266 columns</p>\n</div>"
     },
     "metadata": {},
     "execution_count": 2
    }
   ],
   "source": [
    "data = pd.read_csv(\"data/diff/2019-02.csv\")\n",
    "data.head()"
   ]
  },
  {
   "cell_type": "code",
   "execution_count": 3,
   "metadata": {},
   "outputs": [],
   "source": [
    "days = int(data.shape[0] / 24)"
   ]
  },
  {
   "cell_type": "code",
   "execution_count": 4,
   "metadata": {},
   "outputs": [],
   "source": [
    "data['day'] = pd.to_datetime(data['time']).dt.day\n",
    "data['hour'] = pd.to_datetime(data['time']).dt.hour\n",
    "data['date'] = pd.to_datetime(data['time']).dt.date"
   ]
  },
  {
   "cell_type": "code",
   "execution_count": 7,
   "metadata": {},
   "outputs": [
    {
     "output_type": "execute_result",
     "data": {
      "text/plain": [
       "'d:\\\\下载\\\\TLC\\\\2019-02.gif'"
      ]
     },
     "metadata": {},
     "execution_count": 7
    }
   ],
   "source": [
    "# 绘制一个月内部分区域的出租车热度图\n",
    "from pyecharts import options as opts\n",
    "from pyecharts.charts import HeatMap\n",
    "from pyecharts.charts import Timeline\n",
    "\n",
    "tl = (\n",
    "    Timeline()\n",
    "    .add_schema(play_interval=200,is_loop_play=False)\n",
    "    )\n",
    "    \n",
    "x = [i for i in range(220,265)]\n",
    "y = [i for i in range(24)]\n",
    "for i in range(days):\n",
    "    value = [[k, j, int(data.iloc[i*24+j][k+221])] for k in range(45) for j in range(24)]\n",
    "    c = (\n",
    "        HeatMap()\n",
    "        .add_xaxis(x)\n",
    "        .add_yaxis(str(data.iloc[i*24]['date']), y, value)\n",
    "        .set_global_opts(\n",
    "            title_opts=opts.TitleOpts(title=\"2019年2月部分地区热力图\"),\n",
    "            visualmap_opts=opts.VisualMapOpts(min_=-30, max_=30),\n",
    "        )\n",
    "    )\n",
    "    tl.add(c, \"{}日\".format(i+1))\n",
    "tl.render(\"data/graph/2019-02.html\")"
   ]
  },
  {
   "cell_type": "code",
   "execution_count": 13,
   "metadata": {},
   "outputs": [],
   "source": [
    "dist2 = pd.read_csv(\"data/dist/2019-02.csv\")\n",
    "dist1 = pd.read_csv(\"data/dist/2019-01.csv\")\n",
    "dist = dist1-dist2"
   ]
  },
  {
   "cell_type": "code",
   "execution_count": 15,
   "metadata": {},
   "outputs": [],
   "source": [
    "# 绘制地区之间距离热度图\n",
    "from pyecharts import options as opts\n",
    "from pyecharts.charts import HeatMap\n",
    "\n",
    "x = [i for i in range(265)]\n",
    "y = [i for i in range(265)]\n",
    "value = [[i, j, int(dist.iloc[i][j])] for i in range(265) for j in range(265)]\n",
    "c = (\n",
    "    HeatMap(init_opts=opts.InitOpts(width='1000px',height='900px'))\n",
    "    .add_xaxis(x)\n",
    "    .add_yaxis(\"distance\", y, value)\n",
    "    .set_global_opts(\n",
    "        title_opts=opts.TitleOpts(title=\"各地区距离\"),\n",
    "        visualmap_opts=opts.VisualMapOpts(min_=-30, max_=30),\n",
    "    )\n",
    "    .render(\"data/graph/距离差.html\")\n",
    ")"
   ]
  },
  {
   "cell_type": "code",
   "execution_count": 56,
   "metadata": {},
   "outputs": [
    {
     "output_type": "execute_result",
     "data": {
      "text/plain": [
       "                  time   0  1  2   3  4  5    6  7  8  ...  255  256  257  \\\n",
       "0  2019-01-01 00:00:00   0  0  0  25  0  0   20  0  0  ...    2    3    0   \n",
       "1  2019-01-01 01:00:00   3  0  2  32  0  0   92 -1  2  ...   -4   16    3   \n",
       "2  2019-01-01 02:00:00   2  0  2  36  0  1  115  2  2  ...  -29   12    6   \n",
       "3  2019-01-01 03:00:00   8  0  4  35  0  0  102  0  4  ...   20    9    7   \n",
       "4  2019-01-01 04:00:00  13  0  0  35  0  0   71  0  2  ...   21    5    4   \n",
       "\n",
       "   258  259  260  261  262  263  264  \n",
       "0    1    5   -6   44  -54  -68   19  \n",
       "1    4   27   12  170   24   -6   45  \n",
       "2    0   37   15  168   67   -9   48  \n",
       "3    0   36   34   87   45   12   53  \n",
       "4    8   12   21   59   -1    1   22  \n",
       "\n",
       "[5 rows x 266 columns]"
      ],
      "text/html": "<div>\n<style scoped>\n    .dataframe tbody tr th:only-of-type {\n        vertical-align: middle;\n    }\n\n    .dataframe tbody tr th {\n        vertical-align: top;\n    }\n\n    .dataframe thead th {\n        text-align: right;\n    }\n</style>\n<table border=\"1\" class=\"dataframe\">\n  <thead>\n    <tr style=\"text-align: right;\">\n      <th></th>\n      <th>time</th>\n      <th>0</th>\n      <th>1</th>\n      <th>2</th>\n      <th>3</th>\n      <th>4</th>\n      <th>5</th>\n      <th>6</th>\n      <th>7</th>\n      <th>8</th>\n      <th>...</th>\n      <th>255</th>\n      <th>256</th>\n      <th>257</th>\n      <th>258</th>\n      <th>259</th>\n      <th>260</th>\n      <th>261</th>\n      <th>262</th>\n      <th>263</th>\n      <th>264</th>\n    </tr>\n  </thead>\n  <tbody>\n    <tr>\n      <th>0</th>\n      <td>2019-01-01 00:00:00</td>\n      <td>0</td>\n      <td>0</td>\n      <td>0</td>\n      <td>25</td>\n      <td>0</td>\n      <td>0</td>\n      <td>20</td>\n      <td>0</td>\n      <td>0</td>\n      <td>...</td>\n      <td>2</td>\n      <td>3</td>\n      <td>0</td>\n      <td>1</td>\n      <td>5</td>\n      <td>-6</td>\n      <td>44</td>\n      <td>-54</td>\n      <td>-68</td>\n      <td>19</td>\n    </tr>\n    <tr>\n      <th>1</th>\n      <td>2019-01-01 01:00:00</td>\n      <td>3</td>\n      <td>0</td>\n      <td>2</td>\n      <td>32</td>\n      <td>0</td>\n      <td>0</td>\n      <td>92</td>\n      <td>-1</td>\n      <td>2</td>\n      <td>...</td>\n      <td>-4</td>\n      <td>16</td>\n      <td>3</td>\n      <td>4</td>\n      <td>27</td>\n      <td>12</td>\n      <td>170</td>\n      <td>24</td>\n      <td>-6</td>\n      <td>45</td>\n    </tr>\n    <tr>\n      <th>2</th>\n      <td>2019-01-01 02:00:00</td>\n      <td>2</td>\n      <td>0</td>\n      <td>2</td>\n      <td>36</td>\n      <td>0</td>\n      <td>1</td>\n      <td>115</td>\n      <td>2</td>\n      <td>2</td>\n      <td>...</td>\n      <td>-29</td>\n      <td>12</td>\n      <td>6</td>\n      <td>0</td>\n      <td>37</td>\n      <td>15</td>\n      <td>168</td>\n      <td>67</td>\n      <td>-9</td>\n      <td>48</td>\n    </tr>\n    <tr>\n      <th>3</th>\n      <td>2019-01-01 03:00:00</td>\n      <td>8</td>\n      <td>0</td>\n      <td>4</td>\n      <td>35</td>\n      <td>0</td>\n      <td>0</td>\n      <td>102</td>\n      <td>0</td>\n      <td>4</td>\n      <td>...</td>\n      <td>20</td>\n      <td>9</td>\n      <td>7</td>\n      <td>0</td>\n      <td>36</td>\n      <td>34</td>\n      <td>87</td>\n      <td>45</td>\n      <td>12</td>\n      <td>53</td>\n    </tr>\n    <tr>\n      <th>4</th>\n      <td>2019-01-01 04:00:00</td>\n      <td>13</td>\n      <td>0</td>\n      <td>0</td>\n      <td>35</td>\n      <td>0</td>\n      <td>0</td>\n      <td>71</td>\n      <td>0</td>\n      <td>2</td>\n      <td>...</td>\n      <td>21</td>\n      <td>5</td>\n      <td>4</td>\n      <td>8</td>\n      <td>12</td>\n      <td>21</td>\n      <td>59</td>\n      <td>-1</td>\n      <td>1</td>\n      <td>22</td>\n    </tr>\n  </tbody>\n</table>\n<p>5 rows × 266 columns</p>\n</div>"
     },
     "metadata": {},
     "execution_count": 56
    }
   ],
   "source": [
    "data = pd.read_csv(\"data/diff/2019-01.csv\")\n",
    "data.head()"
   ]
  },
  {
   "cell_type": "code",
   "execution_count": 57,
   "metadata": {},
   "outputs": [],
   "source": [
    "import numpy as np\n",
    "data=data.iloc[:,221:]\n",
    "days = data.shape[0]//24\n",
    "mean = data.iloc[0:24].values\n",
    "for i in range(1,days):\n",
    "    tmp = data.iloc[i*24:(i+1)*24].values\n",
    "    mean = mean + tmp\n",
    "mean = mean / days\n",
    "mean = pd.DataFrame(mean)\n",
    "mean.columns = range(220,265)\n",
    "mean.to_csv(\"data/model/2019-01.csv\")"
   ]
  },
  {
   "cell_type": "code",
   "execution_count": 3,
   "metadata": {},
   "outputs": [
    {
     "output_type": "execute_result",
     "data": {
      "text/plain": [
       "'red'"
      ]
     },
     "metadata": {},
     "execution_count": 3
    }
   ],
   "source": [
    "def node_color(n):\n",
    "    if n < 0:\n",
    "        return \"blue\"\n",
    "    if n > 0:\n",
    "        return \"red\"\n",
    "    return \"yellow\"\n",
    "\n",
    "node_color(1)"
   ]
  },
  {
   "cell_type": "code",
   "execution_count": 13,
   "metadata": {},
   "outputs": [
    {
     "output_type": "execute_result",
     "data": {
      "text/plain": [
       "'d:\\\\下载\\\\TLC\\\\data\\\\graph\\\\关系图.html'"
      ]
     },
     "metadata": {},
     "execution_count": 13
    }
   ],
   "source": [
    "from pyecharts import options as opts\n",
    "from pyecharts.charts import Timeline\n",
    "from pyecharts.charts import Graph\n",
    "\n",
    "tl = Timeline()\n",
    "\n",
    "node = pd.read_csv(\"data/model/diff.csv\")\n",
    "edge = np.load(\"data/model/graph.npy\")\n",
    "\n",
    "for k in range(24):\n",
    "    nodes = [\n",
    "        {\n",
    "            \"name\": str(i+220),\n",
    "            \"value\": node.iloc[k,i],\n",
    "            \"symbolSize\": math.log(1+abs(node.iloc[k,i]),1.1),\n",
    "            \"itemStyle\": {\"normal\": {\"color\": node_color(node.iloc[k,i])}},\n",
    "        }\n",
    "        for i in range(45)\n",
    "    ]\n",
    "    edges = []\n",
    "    for i in range(45):\n",
    "        for j in range(45):\n",
    "            if edge[k,i,j] != 0:\n",
    "                edges.append({\"source\":str(i+220), \"target\":str(j+220), \"value\":edge[k,i,j]})\n",
    "    c = (\n",
    "        Graph(init_opts=opts.InitOpts(width=\"1600px\", height=\"800px\"))\n",
    "        .add(\n",
    "            series_name=\"\",\n",
    "            nodes=nodes,\n",
    "            links=edges,\n",
    "            layout=\"circular\",\n",
    "            is_roam=True,\n",
    "            is_focusnode=True,\n",
    "            label_opts=opts.LabelOpts(is_show=False),\n",
    "            linestyle_opts=opts.LineStyleOpts(width=0.5, curve=0.3, opacity=0.7),\n",
    "        )\n",
    "        .set_global_opts(title_opts=opts.TitleOpts(title=\"NPM Dependencies\"))\n",
    "    )\n",
    "    tl.add(c, \"{}时\".format(k))\n",
    "tl.render(\"data/graph/关系图.html\")"
   ]
  },
  {
   "cell_type": "code",
   "execution_count": null,
   "metadata": {},
   "outputs": [],
   "source": []
  }
 ]
}